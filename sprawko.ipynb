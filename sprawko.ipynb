{
 "cells": [
  {
   "cell_type": "markdown",
   "metadata": {
    "collapsed": false,
    "jupyter": {
     "outputs_hidden": false
    }
   },
   "source": [
    "# **Sprawozdanie**\n",
    "\n",
    "**Autorzy:**\n",
    "- Krzysztof Maciejewski (260449)\n",
    "- Jakub Wierzchowiec (252738)\n",
    "- Adam Stypczyc (259273)\n",
    "\n",
    "---\n",
    "\n",
    "## **Cel projektu**\n",
    "\n",
    "Naszym zadaniem było opracowanie metod steganografii tekstu. Postanowiliśmy skupić się na różnych rodzajach tej dziedziny.\n",
    "\n",
    "Poniższy dokument zawiera opracowanie następujących metod steganograficznych:\n",
    "\n",
    "1. **Metoda ukrywania wiadomości za pomocą znaków o zerowej szerokości**\n",
    "2. **Zakodowywanie wiadomości za pomocą losowych imion i nazwisk**\n",
    "3. **Steganografia synonimami**\n",
    "4. **Steganografia homoglifami**\n"
   ]
  },
  {
   "cell_type": "markdown",
   "source": [
    "# 1. Metoda ukrywania wiadomości za pomocą znaków o zerowej szerokości\n",
    "\n",
    "### **Opis metody**\n",
    "Metoda ta wykorzystuje niewidoczne znaki Unicode, takie jak:\n",
    "- **Zero Width Space** (`\\u200B`)\n",
    "- **Zero Width Non-Joiner** (`\\u200C`)\n",
    "- **Zero Width Joiner** (`\\u200D`)\n",
    "\n",
    "do zakodowania informacji w sposób niewidoczny dla użytkownika.\n",
    "\n",
    "---\n",
    "\n",
    "### **Szyfrowanie**\n",
    "1. Wiadomość do ukrycia jest przekształcana na postać binarną.\n",
    "2. Bity:\n",
    "   - `0` są reprezentowane przez znak `\\u200B`.\n",
    "   - `1` są reprezentowane przez znak `\\u200C`.\n",
    "3. Zakodowana wiadomość w postaci znaków o zerowej szerokości jest dołączana do oryginalnego tekstu, oddzielona znakiem `\\u200D`.\n",
    "\n",
    "---\n",
    "\n",
    "### **Odszyfrowanie**\n",
    "1. Tekst jest przeszukiwany w celu odnalezienia separatora (`\\u200D`).\n",
    "2. Znaki o zerowej szerokości są zamieniane z powrotem na postać binarną.\n",
    "3. Binarna wiadomość jest konwertowana na pierwotny tekst.\n",
    "\n",
    "---\n",
    "\n",
    "## Funkcja ukrywająca wiadomość przy użyciu znaków o zerowej szerokości\n",
    "\n",
    "### **Parametry**\n",
    "- `plain_text` *(str)*: Tekst, do którego chcemy dodać ukrytą wiadomość.\n",
    "- `secret_message` *(str)*: Wiadomość do ukrycia.\n",
    "\n",
    "### **Zwraca**\n",
    "- `encoded_text` *(str)*: Tekst oryginalny z dodaną zaszyfrowaną wiadomością.\n"
   ],
   "metadata": {
    "collapsed": false
   }
  },
  {
   "cell_type": "code",
   "execution_count": 1,
   "metadata": {},
   "outputs": [],
   "source": [
    "def encrypt(plain_text, secret_message):\n",
    "    # Kodowanie ukrytej wiadomości na postać binarną\n",
    "    binary_message = ''.join(format(ord(char), '08b') for char in secret_message)\n",
    "    zero_width_encoding = binary_message.replace('0', '\\u200B').replace('1', '\\u200C')\n",
    "\n",
    "    # Łączenie tekstu oryginalnego z zakodowaną wiadomością\n",
    "    encoded_text = plain_text + '\\u200D' + zero_width_encoding + '\\u200D'\n",
    "    return encoded_text"
   ]
  },
  {
   "cell_type": "markdown",
   "metadata": {
    "collapsed": false,
    "jupyter": {
     "outputs_hidden": false
    }
   },
   "source": [
    "## Funkcja odszyfrowująca ukrytą wiadomość z zakodowanego tekstu\n",
    "\n",
    "### **Parametry**\n",
    "- `encoded_text` *(str)*: Tekst z ukrytą wiadomością.\n",
    "\n",
    "### **Zwraca**\n",
    "- `plain_text` *(str)*: Tekst oryginalny bez ukrytej wiadomości.\n",
    "- `secret_message` *(str)*: Ukryta wiadomość."
   ]
  },
  {
   "cell_type": "code",
   "execution_count": 2,
   "metadata": {
    "collapsed": false,
    "jupyter": {
     "outputs_hidden": false
    },
    "pycharm": {
     "name": "#%%\n"
    }
   },
   "outputs": [],
   "source": [
    "def decrypt(encoded_text):\n",
    "    # Sprawdzanie, czy w tekście znajduje się ukryta wiadomość\n",
    "    if '\\u200D' not in encoded_text:\n",
    "        return \"Brak ukrytej wiadomości.\", encoded_text\n",
    "\n",
    "    # Rozdzielanie tekstu oryginalnego i zakodowanej wiadomości\n",
    "    plain_text, encoded_message = encoded_text.split('\\u200D', 1)\n",
    "    encoded_message = encoded_message.strip('\\u200D')\n",
    "\n",
    "    # Konwersja znaków o zerowej szerokości z powrotem do postaci binarnej\n",
    "    binary_message = encoded_message.replace('\\u200B', '0').replace('\\u200C', '1')\n",
    "\n",
    "    # Konwersja binarnej postaci na znaki, aby uzyskać ukrytą wiadomość\n",
    "    secret_message = ''.join(chr(int(binary_message[i:i + 8], 2)) for i in range(0, len(binary_message), 8))\n",
    "\n",
    "    return plain_text, secret_message"
   ]
  },
  {
   "cell_type": "markdown",
   "metadata": {
    "collapsed": false,
    "jupyter": {
     "outputs_hidden": false
    }
   },
   "source": [
    "### Przykład użycia:"
   ]
  },
  {
   "cell_type": "code",
   "execution_count": 3,
   "metadata": {
    "collapsed": false,
    "jupyter": {
     "outputs_hidden": false
    },
    "pycharm": {
     "name": "#%%\n"
    }
   },
   "outputs": [
    {
     "name": "stdout",
     "output_type": "stream",
     "text": [
      "Zakodowany tekst: Hello, jak się masz?‍​‌​‌​‌​‌​‌‌​‌​‌‌​‌‌‌​​‌​​‌‌‌‌​​‌​‌‌‌​‌​​​‌‌​​​​‌​​‌‌​​​‌​​‌‌​​‌​​​‌‌​​‌‌‍\n",
      "Tekst oryginalny: Hello, jak się masz?\n",
      "Odszyfrowana wiadomość: Ukryta123\n"
     ]
    }
   ],
   "source": [
    "plain_text = \"Hello, jak się masz?\"\n",
    "secret_message = \"Ukryta123\"\n",
    "\n",
    "# Szyfrowanie\n",
    "encoded_text = encrypt(plain_text, secret_message)\n",
    "print(\"Zakodowany tekst:\", encoded_text)\n",
    "\n",
    "# Odszyfrowanie\n",
    "original_text, decoded_message = decrypt(encoded_text)\n",
    "print(\"Tekst oryginalny:\", original_text)\n",
    "print(\"Odszyfrowana wiadomość:\", decoded_message)"
   ]
  },
  {
   "cell_type": "markdown",
   "source": [
    "# 2. Zakodowywanie wiadomości za pomocą losowych imion i nazwisk\n",
    "\n",
    "Steganografia używająca imion i nazwisk do kodowania ukrytej wiadomości. Jest trudna do zauważenia ponieważ zakodowany tekst wygląda jak zwyczajna lista imion i nazwisk danego departamentu. Wiadomość jest zamieniana na ciąg bitów, które następnie są zakodowywane za pomocą imion i nazwisk. Jeżeli przetwarzany bit jest zerem to wybieramy imię lub nazwisko zaczynajace się samogłoską. Jeżeli bit jest jedynką to zamieniamy go na imię lub nazwisko zaczynające się spółgłoska."
   ],
   "metadata": {
    "collapsed": false
   }
  },
  {
   "cell_type": "code",
   "execution_count": 1,
   "outputs": [],
   "source": [
    "from faker import Faker\n",
    "\n",
    "# biblioteka Faker służy do generowania losowych imion i nazwisk o określonych cechach\n",
    "fake = Faker()\n",
    "\n",
    "\n",
    "# Funkcja sprawdzająca pierwszą literę wyrazu i zwracjąca 0 jeżeli litera jest samogłoską i\n",
    "# 1 jeśli jest spółgłoską\n",
    "def letter_to_bit(letter):\n",
    "    vowels = \"AEIOU\"\n",
    "    return '0' if letter.upper() in vowels else '1'"
   ],
   "metadata": {
    "collapsed": false,
    "pycharm": {
     "name": "#%%\n"
    }
   }
  },
  {
   "cell_type": "code",
   "metadata": {
    "collapsed": false,
    "jupyter": {
     "outputs_hidden": false
    },
    "pycharm": {
     "name": "#%%\n"
    }
   },
   "source": [
    "# Funkcja zakodowywująca pojedyńczy bajt jako departament\n",
    "# Każda litera jest jednym departamentem składającym się z 4 osób, pozwalających na zakodowanie 8 bitów\n",
    "def generate_department(byte):\n",
    "    department = []\n",
    "    bits = f\"{byte:08b}\"  # Konwersja bajtu do 8-bitowego stringa\n",
    "\n",
    "    for i in range(0, 8, 2):  # Każda osoba moze zakodować 2 bity\n",
    "        # Generuje losowe imiona dopóki nie otrzymamy, imienia z porządanymi pierwszymi literami\n",
    "\n",
    "        while True:\n",
    "            name = fake.first_name()\n",
    "            surname = fake.last_name()\n",
    "            name_bit = letter_to_bit(name[0])\n",
    "            surname_bit = letter_to_bit(surname[0])\n",
    "\n",
    "            if name_bit == bits[i] and surname_bit == bits[i + 1]:\n",
    "                department.append((name, surname))\n",
    "                break\n",
    "\n",
    "    return department\n",
    "\n",
    "\n",
    "# Funkcja zakodowywujące wiadomość w departamenty\n",
    "def encode_message(message):\n",
    "    byte_array = message.encode('utf-8')\n",
    "    departments = []\n",
    "\n",
    "    for byte in byte_array:\n",
    "        department = generate_department(byte)\n",
    "        departments.append(department)\n",
    "\n",
    "    return departments\n",
    "\n",
    "\n",
    "# Funkcja odkodowywująca wiadomość z departamentów\n",
    "def decode_message(departments):\n",
    "    bytes_list = []\n",
    "\n",
    "    for department in departments:\n",
    "        bits = \"\"\n",
    "        for name, surname in department:\n",
    "            # Poberamy pierwsze litery z imienia i nazwiska\n",
    "            name_bit = letter_to_bit(name[0])\n",
    "            surname_bit = letter_to_bit(surname[0])\n",
    "            bits += name_bit + surname_bit\n",
    "\n",
    "        # Konwertujemy 1 literę, czyli 8 bitów w bajt i dodajemy do listy\n",
    "        byte = int(bits, 2)\n",
    "        bytes_list.append(byte)\n",
    "\n",
    "    # Konwerujemy listę bloków bajtów w oryginalny string\n",
    "    decoded_message = bytes(bytes_list).decode('utf-8')\n",
    "    return decoded_message"
   ],
   "execution_count": 4,
   "outputs": []
  },
  {
   "cell_type": "markdown",
   "source": [
    "## Przykład użycia"
   ],
   "metadata": {
    "collapsed": false
   }
  },
  {
   "cell_type": "code",
   "execution_count": 5,
   "outputs": [
    {
     "name": "stdout",
     "output_type": "stream",
     "text": [
      "Encoded Departments:\n",
      "Department 1:\n",
      "  - Angela Martin\n",
      "  - Ashley Arias\n",
      "  - Jesse Andrews\n",
      "  - Aaron Alvarez\n",
      "Department 2:\n",
      "  - Amanda Gonzalez\n",
      "  - Keith Allen\n",
      "  - Amanda Strickland\n",
      "  - Amy Murillo\n",
      "Department 3:\n",
      "  - Autumn Collins\n",
      "  - Megan Acevedo\n",
      "  - Daniel Williams\n",
      "  - Albert Alexander\n",
      "Department 4:\n",
      "  - Amy Harvey\n",
      "  - Jesse Eaton\n",
      "  - Dennis Barrett\n",
      "  - Adriana Alvarez\n",
      "Department 5:\n",
      "  - Andrew Rose\n",
      "  - Thomas Anderson\n",
      "  - Kelly Daniel\n",
      "  - Ryan Fowler\n",
      "\n",
      "Decoded Message: Hello\n"
     ]
    }
   ],
   "source": [
    "secret_message = \"Hello\"\n",
    "encoded_departments = encode_message(secret_message)\n",
    "\n",
    "print(\"Encoded Departments:\")\n",
    "for i, department in enumerate(encoded_departments):\n",
    "    print(f\"Department {i + 1}:\")\n",
    "    for name, surname in department:\n",
    "        print(f\"  - {name} {surname}\")\n",
    "\n",
    "# Dekodowanie wiadomości\n",
    "decoded_message = decode_message(encoded_departments)\n",
    "print(\"\\nDecoded Message:\", decoded_message)"
   ],
   "metadata": {
    "collapsed": false,
    "pycharm": {
     "name": "#%%\n"
    }
   }
  },
  {
   "cell_type": "code",
   "execution_count": null,
   "outputs": [],
   "source": [],
   "metadata": {
    "collapsed": false,
    "pycharm": {
     "name": "#%%\n"
    }
   }
  },
  {
   "cell_type": "markdown",
   "metadata": {},
   "source": [
    "# Steganografia synonimami"
   ]
  },
  {
   "cell_type": "markdown",
   "metadata": {},
   "source": [
    "Program wykorzystuje tekst wejściowy oraz słownik zawierający synonimy dla słów z oryginalnego tekstu. Dla podanego hasła generowana jest jego reprezentacja binarna. Następnie dobierana są odpowiednie synonimy, które są podmieniane w oryginalnym tekście tworząc zakodowany tekst."
   ]
  },
  {
   "cell_type": "code",
   "execution_count": null,
   "metadata": {},
   "outputs": [],
   "source": [
    "import json\n",
    "import os\n",
    "\n",
    "story_path = \"./story.txt\"\n",
    "synonyms_path = \"./synonyms.json\"\n",
    "output_path = \"./result.txt\"\n",
    "\n",
    "\n",
    "password = input(\"Podaj hasło: \")\n",
    "\n",
    "binary_password = ''.join(format(ord(character), '08b') for character in password)\n",
    "binary_index = 0 \n",
    "\n",
    "with open(synonyms_path, 'r') as f:\n",
    "    synonyms = json.load(f)\n",
    "\n",
    "with open(story_path, 'r') as f:\n",
    "    story = f.read()\n",
    "\n",
    "\n",
    "def replace_with_synonyms(text, synonyms_dict, binary_password):\n",
    "    global binary_index\n",
    "    words = text.split()\n",
    "    replaced_words = []\n",
    "    signature = ''\n",
    "\n",
    "    for word in words:\n",
    "        clean_word = word.strip(\",.!?\") \n",
    "        if clean_word in synonyms_dict:\n",
    "            synonym_list = synonyms_dict[clean_word]\n",
    "            if binary_index < len(binary_password):\n",
    "                binary_digit = binary_password[binary_index]\n",
    "                binary_index += 1\n",
    "                synonym_index = int(binary_digit)\n",
    "            else:\n",
    "                binary_index = 0\n",
    "                binary_digit = binary_password[binary_index]\n",
    "                synonym_index = int(binary_digit)\n",
    "\n",
    "            if synonym_index >= len(synonym_list):\n",
    "                synonym_index = 0\n",
    "\n",
    "            synonym = synonym_list[synonym_index]\n",
    "            signature += str(synonym_index)\n",
    "\n",
    "            if clean_word.istitle():\n",
    "                synonym = synonym.capitalize()\n",
    "\n",
    "            replaced_word = word.replace(clean_word, synonym)\n",
    "            replaced_words.append(replaced_word)\n",
    "        else:\n",
    "            replaced_words.append(word)\n",
    "\n",
    "    print(f\"Podpis: {signature}\")\n",
    "    return \" \".join(replaced_words)\n",
    "\n",
    "\n",
    "modified_story = replace_with_synonyms(story, synonyms, binary_password)\n",
    "\n",
    "os.makedirs(os.path.dirname(output_path), exist_ok=True)\n",
    "with open(output_path, 'w') as f:\n",
    "    f.write(modified_story)\n",
    "\n",
    "print(f\"Zapisano zakodowany tekst: {output_path}\")"
   ]
  },
  {
   "cell_type": "markdown",
   "metadata": {},
   "source": [
    "Zaimplmentowano równiez program umozliwiajacy odkodowanie zakodowanego tekstu. Do odkodowania potrzebny jest słownik synonimów oraz hasło zastosowane do zakodowania oryginalnego tekstu."
   ]
  },
  {
   "cell_type": "code",
   "execution_count": null,
   "metadata": {},
   "outputs": [],
   "source": [
    "import json\n",
    "\n",
    "encoded_story_path = \"./result.txt\"\n",
    "synonyms_path = \".synonyms.json\"\n",
    "decoded_story_path = \".decoded_story.txt\"\n",
    "\n",
    "password = input(\"Podaj hasło by zdekodować: \")\n",
    "\n",
    "binary_password = ''.join(format(ord(char), '08b') for char in password)\n",
    "binary_index = 0\n",
    "\n",
    "with open(synonyms_path, 'r') as f:\n",
    "    synonyms = json.load(f)\n",
    "\n",
    "with open(encoded_story_path, 'r') as f:\n",
    "    encoded_story = f.read()\n",
    "\n",
    "\n",
    "def decode_story(encoded_text, synonyms_dict, binary_password):\n",
    "    global binary_index\n",
    "    words = encoded_text.split()\n",
    "    decoded_words = []\n",
    "\n",
    "    for word in words:\n",
    "        stripped_word = word.strip(\",.!?\")\n",
    "        punctuation = word[len(stripped_word):] if len(word) > len(stripped_word) else \"\"\n",
    "\n",
    "        original_word = None\n",
    "        for key, synonym_list in synonyms_dict.items():\n",
    "            if stripped_word in synonym_list:\n",
    "                if binary_index < len(binary_password):\n",
    "                    binary_digit = binary_password[binary_index]\n",
    "                    binary_index += 1\n",
    "                else:\n",
    "                    binary_index = 0\n",
    "                    binary_digit = binary_password[binary_index]\n",
    "\n",
    "                chosen_index = int(binary_digit)\n",
    "\n",
    "                if synonym_list[chosen_index] == stripped_word:\n",
    "                    original_word = key\n",
    "                    break\n",
    "\n",
    "        if original_word:\n",
    "            if word.istitle():\n",
    "                original_word = original_word.capitalize()\n",
    "            decoded_word = original_word + punctuation\n",
    "        else:\n",
    "            decoded_word = word\n",
    "\n",
    "        decoded_words.append(decoded_word)\n",
    "\n",
    "    return \" \".join(decoded_words)\n",
    "\n",
    "\n",
    "decoded_story = decode_story(encoded_story, synonyms, binary_password)\n",
    "\n",
    "with open(decoded_story_path, 'w') as f:\n",
    "    f.write(decoded_story)\n",
    "\n",
    "print(f\"Zapisano zdekodowany tekst: {decoded_story_path}\")"
   ]
  },
  {
   "cell_type": "markdown",
   "metadata": {},
   "source": [
    "Ponizej przedstawiono fragment oryginalnego tekstu oraz słownika stosowanych do kodowania haseł."
   ]
  },
  {
   "cell_type": "code",
   "execution_count": null,
   "metadata": {},
   "outputs": [],
   "source": [
    "{\n",
    "    \"In\": [\"within\", \"inside\", \"during\", \"amid\"],\n",
    "    \"quiet\": [\"peaceful\", \"serene\", \"calm\", \"tranquil\"],\n",
    "    \"little\": [\"small\", \"tiny\", \"petite\", \"miniature\"],\n",
    "    \"town\": [\"village\", \"settlement\", \"community\", \"hamlet\"],\n",
    "}"
   ]
  },
  {
   "cell_type": "markdown",
   "metadata": {},
   "source": [
    "In a quiet little town surrounded by rolling hills and ancient forests, young Emma stumbled upon something peculiar while exploring her grandmother’s attic: a tiny, ornate key with an emerald embedded in its handle. Intrigued, she clutched the key tightly, her mind racing with possibilities."
   ]
  }
 ],
 "metadata": {
  "kernelspec": {
   "display_name": "Python 3 (ipykernel)",
   "language": "python",
   "name": "python3"
  },
  "language_info": {
   "codemirror_mode": {
    "name": "ipython",
    "version": 3
   },
   "file_extension": ".py",
   "mimetype": "text/x-python",
   "name": "python",
   "nbconvert_exporter": "python",
   "pygments_lexer": "ipython3",
   "version": "3.9.6"
  }
 },
 "nbformat": 4,
 "nbformat_minor": 4
}