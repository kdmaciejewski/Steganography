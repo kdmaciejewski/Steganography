{
 "cells": [
  {
   "cell_type": "markdown",
   "metadata": {
    "collapsed": false,
    "jupyter": {
     "outputs_hidden": false
    }
   },
   "source": [
    "# **Sprawozdanie**\n",
    "\n",
    "**Autorzy:**\n",
    "- Krzysztof Maciejewski (260449)\n",
    "- Jakub Wierzchowiec (252738)\n",
    "- Adam Stypczyc (259273)\n",
    "\n",
    "---\n",
    "\n",
    "## **Cel projektu**\n",
    "\n",
    "Naszym zadaniem było opracowanie metod steganografii tekstu. Postanowiliśmy skupić się na różnych rodzajach tej dziedziny.\n",
    "\n",
    "Poniższy dokument zawiera opracowanie następujących metod steganograficznych:\n",
    "\n",
    "1. **Użycie specjalnych znaków o zerowej szerokości do ukrywania wiadomości**\n",
    "2. **Zakodowywanie wiadomości za pomocą losowych imion i nazwisk**\n",
    "3. **Steganografia synonimami**\n",
    "4. **Steganografia homoglifami**\n"
   ]
  },
  {
   "cell_type": "markdown",
   "source": [
    "# 1. Użycie specjalnych znaków o zerowej szerokości do ukrywania wiadomości\n",
    "\n",
    "## Funkcja ukrywająca wiadomość przy użyciu znaków o zerowej szerokości\n",
    "\n",
    "### **Parametry**\n",
    "- `plain_text` *(str)*: Tekst, do którego chcemy dodać ukrytą wiadomość.\n",
    "- `secret_message` *(str)*: Wiadomość do ukrycia.\n",
    "\n",
    "### **Zwraca**\n",
    "- `encoded_text` *(str)*: Tekst oryginalny z dodaną zaszyfrowaną wiadomością.\n"
   ],
   "metadata": {
    "collapsed": false
   }
  },
  {
   "cell_type": "code",
   "execution_count": 1,
   "metadata": {},
   "outputs": [],
   "source": [
    "def encrypt(plain_text, secret_message):\n",
    "    # Kodowanie ukrytej wiadomości na postać binarną\n",
    "    binary_message = ''.join(format(ord(char), '08b') for char in secret_message)\n",
    "    zero_width_encoding = binary_message.replace('0', '\\u200B').replace('1', '\\u200C')\n",
    "\n",
    "    # Łączenie tekstu oryginalnego z zakodowaną wiadomością\n",
    "    encoded_text = plain_text + '\\u200D' + zero_width_encoding + '\\u200D'\n",
    "    return encoded_text"
   ]
  },
  {
   "cell_type": "markdown",
   "metadata": {
    "collapsed": false,
    "jupyter": {
     "outputs_hidden": false
    }
   },
   "source": [
    "## Funkcja odszyfrowująca ukrytą wiadomość z zakodowanego tekstu\n",
    "\n",
    "### **Parametry**\n",
    "- `encoded_text` *(str)*: Tekst z ukrytą wiadomością.\n",
    "\n",
    "### **Zwraca**\n",
    "- `plain_text` *(str)*: Tekst oryginalny bez ukrytej wiadomości.\n",
    "- `secret_message` *(str)*: Ukryta wiadomość."
   ]
  },
  {
   "cell_type": "code",
   "execution_count": 2,
   "metadata": {
    "collapsed": false,
    "jupyter": {
     "outputs_hidden": false
    },
    "pycharm": {
     "name": "#%%\n"
    }
   },
   "outputs": [],
   "source": [
    "def decrypt(encoded_text):\n",
    "    # Sprawdzanie, czy w tekście znajduje się ukryta wiadomość\n",
    "    if '\\u200D' not in encoded_text:\n",
    "        return \"Brak ukrytej wiadomości.\", encoded_text\n",
    "\n",
    "    # Rozdzielanie tekstu oryginalnego i zakodowanej wiadomości\n",
    "    plain_text, encoded_message = encoded_text.split('\\u200D', 1)\n",
    "    encoded_message = encoded_message.strip('\\u200D')\n",
    "\n",
    "    # Konwersja znaków o zerowej szerokości z powrotem do postaci binarnej\n",
    "    binary_message = encoded_message.replace('\\u200B', '0').replace('\\u200C', '1')\n",
    "\n",
    "    # Konwersja binarnej postaci na znaki, aby uzyskać ukrytą wiadomość\n",
    "    secret_message = ''.join(chr(int(binary_message[i:i + 8], 2)) for i in range(0, len(binary_message), 8))\n",
    "\n",
    "    return plain_text, secret_message"
   ]
  },
  {
   "cell_type": "markdown",
   "metadata": {
    "collapsed": false,
    "jupyter": {
     "outputs_hidden": false
    }
   },
   "source": [
    "### Przykład użycia:"
   ]
  },
  {
   "cell_type": "code",
   "execution_count": 3,
   "metadata": {
    "collapsed": false,
    "jupyter": {
     "outputs_hidden": false
    },
    "pycharm": {
     "name": "#%%\n"
    }
   },
   "outputs": [
    {
     "name": "stdout",
     "output_type": "stream",
     "text": [
      "Zakodowany tekst: Hello, jak się masz?‍​‌​‌​‌​‌​‌‌​‌​‌‌​‌‌‌​​‌​​‌‌‌‌​​‌​‌‌‌​‌​​​‌‌​​​​‌​​‌‌​​​‌​​‌‌​​‌​​​‌‌​​‌‌‍\n",
      "Tekst oryginalny: Hello, jak się masz?\n",
      "Odszyfrowana wiadomość: Ukryta123\n"
     ]
    }
   ],
   "source": [
    "plain_text = \"Hello, jak się masz?\"\n",
    "secret_message = \"Ukryta123\"\n",
    "\n",
    "# Szyfrowanie\n",
    "encoded_text = encrypt(plain_text, secret_message)\n",
    "print(\"Zakodowany tekst:\", encoded_text)\n",
    "\n",
    "# Odszyfrowanie\n",
    "original_text, decoded_message = decrypt(encoded_text)\n",
    "print(\"Tekst oryginalny:\", original_text)\n",
    "print(\"Odszyfrowana wiadomość:\", decoded_message)"
   ]
  },
  {
   "cell_type": "markdown",
   "source": [
    "# 2. Zakodowywanie wiadomości za pomocą losowych imion i nazwisk\n",
    "\n",
    "Steganografia używająca imion nazwisk i do kodowania ukrytej wiadomości. Jest trudna do zauważenia ponieważ zakodowany tekst wygląda jak zwyczajna lista imion i nazwisk danego departamentu. Wiadomość jest zamieniana na ciąg bitów, które następnie są zakodowywane za pomocą imion i nazwisk. Jeżeli bit jest zerem to wybieramy imię lub nazwisko zaczynajace się samogłoską. Jeżeli bit jest jedynką to zamieniamy go na imię lub nazwisko zaczynające się spółgłoska."
   ],
   "metadata": {
    "collapsed": false
   }
  },
  {
   "cell_type": "code",
   "execution_count": 1,
   "outputs": [],
   "source": [
    "from faker import Faker\n",
    "\n",
    "# biblioteka Faker służy do generowania losowych imion i nazwisk o określonych cechach\n",
    "fake = Faker()\n",
    "\n",
    "\n",
    "# Funkcja sprawdzająca pierwszą literę wyrazu i zwracjąca 0 jeżeli litera jest samogłoską i\n",
    "# 1 jeśli jest spółgłoską\n",
    "def letter_to_bit(letter):\n",
    "    vowels = \"AEIOU\"\n",
    "    return '0' if letter.upper() in vowels else '1'"
   ],
   "metadata": {
    "collapsed": false,
    "pycharm": {
     "name": "#%%\n"
    }
   }
  },
  {
   "cell_type": "code",
   "metadata": {
    "collapsed": false,
    "jupyter": {
     "outputs_hidden": false
    },
    "pycharm": {
     "name": "#%%\n"
    }
   },
   "source": [
    "# Funkcja zakodowywująca pojedyńczy bajt jako departament\n",
    "def generate_department(byte):\n",
    "    department = []\n",
    "    bits = f\"{byte:08b}\"  # Konwersja bajtu do 8-bitowego stringa\n",
    "\n",
    "    for i in range(0, 8, 2):  # Każda osoba moze zakodować 2 bity\n",
    "        # Generuje losowe imiona dopóki nie otrzymamy, imienia z porządanymi pierwszymi literami\n",
    "\n",
    "        while True:\n",
    "            name = fake.first_name()\n",
    "            surname = fake.last_name()\n",
    "            name_bit = letter_to_bit(name[0])\n",
    "            surname_bit = letter_to_bit(surname[0])\n",
    "\n",
    "            if name_bit == bits[i] and surname_bit == bits[i + 1]:\n",
    "                department.append((name, surname))\n",
    "                break\n",
    "\n",
    "    return department\n",
    "\n",
    "\n",
    "# Funkcja zakodowywujące wiadomość w departamenty\n",
    "def encode_message(message):\n",
    "    byte_array = message.encode('utf-8')\n",
    "    departments = []\n",
    "\n",
    "    for byte in byte_array:\n",
    "        department = generate_department(byte)\n",
    "        departments.append(department)\n",
    "\n",
    "    return departments\n",
    "\n",
    "\n",
    "# Funkcja odkodowywująca wiadomość z departamentów\n",
    "def decode_message(departments):\n",
    "    bytes_list = []\n",
    "\n",
    "    for department in departments:\n",
    "        bits = \"\"\n",
    "        for name, surname in department:\n",
    "            # Poberamy pierwsze litery z imienia i nazwiska\n",
    "            name_bit = letter_to_bit(name[0])\n",
    "            surname_bit = letter_to_bit(surname[0])\n",
    "            bits += name_bit + surname_bit\n",
    "\n",
    "        # Konwertujemy 1 literę, czyli 8 bitów w bajt i dodajemy do listy\n",
    "        byte = int(bits, 2)\n",
    "        bytes_list.append(byte)\n",
    "\n",
    "    # Konwerujemy listę bloków bajtów w oryginalny string\n",
    "    decoded_message = bytes(bytes_list).decode('utf-8')\n",
    "    return decoded_message"
   ],
   "execution_count": 4,
   "outputs": []
  },
  {
   "cell_type": "markdown",
   "source": [
    "## Przykład użycia"
   ],
   "metadata": {
    "collapsed": false
   }
  },
  {
   "cell_type": "code",
   "execution_count": 5,
   "outputs": [
    {
     "name": "stdout",
     "output_type": "stream",
     "text": [
      "Encoded Departments:\n",
      "Department 1:\n",
      "  - Angela Martin\n",
      "  - Ashley Arias\n",
      "  - Jesse Andrews\n",
      "  - Aaron Alvarez\n",
      "Department 2:\n",
      "  - Amanda Gonzalez\n",
      "  - Keith Allen\n",
      "  - Amanda Strickland\n",
      "  - Amy Murillo\n",
      "Department 3:\n",
      "  - Autumn Collins\n",
      "  - Megan Acevedo\n",
      "  - Daniel Williams\n",
      "  - Albert Alexander\n",
      "Department 4:\n",
      "  - Amy Harvey\n",
      "  - Jesse Eaton\n",
      "  - Dennis Barrett\n",
      "  - Adriana Alvarez\n",
      "Department 5:\n",
      "  - Andrew Rose\n",
      "  - Thomas Anderson\n",
      "  - Kelly Daniel\n",
      "  - Ryan Fowler\n",
      "\n",
      "Decoded Message: Hello\n"
     ]
    }
   ],
   "source": [
    "secret_message = \"Hello\"\n",
    "encoded_departments = encode_message(secret_message)\n",
    "\n",
    "print(\"Encoded Departments:\")\n",
    "for i, department in enumerate(encoded_departments):\n",
    "    print(f\"Department {i + 1}:\")\n",
    "    for name, surname in department:\n",
    "        print(f\"  - {name} {surname}\")\n",
    "\n",
    "# Dekodowanie wiadomości\n",
    "decoded_message = decode_message(encoded_departments)\n",
    "print(\"\\nDecoded Message:\", decoded_message)"
   ],
   "metadata": {
    "collapsed": false,
    "pycharm": {
     "name": "#%%\n"
    }
   }
  },
  {
   "cell_type": "code",
   "execution_count": null,
   "outputs": [],
   "source": [],
   "metadata": {
    "collapsed": false,
    "pycharm": {
     "name": "#%%\n"
    }
   }
  }
 ],
 "metadata": {
  "kernelspec": {
   "display_name": "Python 3 (ipykernel)",
   "language": "python",
   "name": "python3"
  },
  "language_info": {
   "codemirror_mode": {
    "name": "ipython",
    "version": 3
   },
   "file_extension": ".py",
   "mimetype": "text/x-python",
   "name": "python",
   "nbconvert_exporter": "python",
   "pygments_lexer": "ipython3",
   "version": "3.9.6"
  }
 },
 "nbformat": 4,
 "nbformat_minor": 4
}