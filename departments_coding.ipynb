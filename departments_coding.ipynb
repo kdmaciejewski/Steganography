{
 "cells": [
  {
   "cell_type": "markdown",
   "metadata": {},
   "source": [
    "Opis Programu:\n",
    "Program koduje wiadomość w postaci \"departamentów\", które składają się z fikcyjnych danych (imię i nazwisko). Każdy \"departament\" zawiera osobę, której imię i nazwisko reprezentują bity zakodowanej wiadomości. Program wykorzystuje dwie pierwsze litery imienia i nazwiska do odwzorowania bitów każdego bajtu zakodowanej wiadomości.\n",
    "\n",
    "Program składa się z trzech głównych funkcji:\n",
    "\n",
    "encode_message – koduje wiadomość w postaci listy departamentów.\n",
    "decode_message – dekoduje wiadomość z listy departamentów.\n",
    "generate_department – generuje departamenty na podstawie pojedynczego bajtu zakodowanej wiadomości."
   ]
  },
  {
   "cell_type": "markdown",
   "metadata": {},
   "source": [
    "Importy i inicjalizacja:"
   ]
  },
  {
   "cell_type": "code",
   "execution_count": null,
   "metadata": {},
   "outputs": [],
   "source": [
    "from faker import Faker\n",
    "\n",
    "# Initialize Faker\n",
    "fake = Faker()"
   ]
  },
  {
   "cell_type": "markdown",
   "metadata": {},
   "source": [
    "Funkcja letter_to_bit(letter)\n",
    "\n",
    "Co robi: Funkcja konwertuje pierwszą literę imienia lub nazwiska na bit, w zależności od tego, czy jest to samogłoska, czy spółgłoska.\n",
    "\n",
    "Parametry:\n",
    "\n",
    "letter (str) – litera, która ma zostać przekonwertowana na bit.\n",
    "Co zwraca:\n",
    "\n",
    "Zwraca '0', jeśli litera to samogłoska (A, E, I, O, U), w przeciwnym razie '1' (spółgłoska)."
   ]
  },
  {
   "cell_type": "code",
   "execution_count": null,
   "metadata": {},
   "outputs": [],
   "source": [
    "# Function to determine bit based on first letter\n",
    "def letter_to_bit(letter):\n",
    "    vowels = \"AEIOU\"\n",
    "    return '0' if letter.upper() in vowels else '1'"
   ]
  },
  {
   "cell_type": "markdown",
   "metadata": {},
   "source": [
    "Funkcja generate_department(byte)\n",
    "\n",
    "Co robi: Funkcja generuje departament (zbiór danych) reprezentujący pojedynczy bajt (8 bitów). Każdy departament zawiera osobę, której imię i nazwisko odpowiadają poszczególnym bitom tego bajtu. Funkcja wykorzystuje dwie pierwsze litery (imię i nazwisko), aby odwzorować bity w zakodowanym bajcie.\n",
    "\n",
    "Parametry:\n",
    "\n",
    "byte (int) – pojedynczy bajt (wartość od 0 do 255), który ma zostać zakodowany na 8 bitów. Każdy bajt jest konwertowany na ciąg 8 bitów, które zostaną przypisane do imion i nazwisk w departamencie.\n",
    "Co zwraca:\n",
    "\n",
    "Zwraca listę department, która zawiera dane osób (imię, nazwisko) odpowiadające poszczególnym bitom bajtu."
   ]
  },
  {
   "cell_type": "code",
   "execution_count": null,
   "metadata": {},
   "outputs": [],
   "source": [
    "# Function to encode a single byte as a department\n",
    "def generate_department(byte):\n",
    "    department = []\n",
    "    bits = f\"{byte:08b}\"  # Convert byte to 8-bit binary string\n",
    "\n",
    "    for i in range(0, 8, 2):  # Each person contributes 2 bits\n",
    "        # Generate random names until we get one with the right first-letter bits\n",
    "        while True:\n",
    "            name = fake.first_name()\n",
    "            surname = fake.last_name()\n",
    "            name_bit = letter_to_bit(name[0])\n",
    "            surname_bit = letter_to_bit(surname[0])\n",
    "\n",
    "            if name_bit == bits[i] and surname_bit == bits[i + 1]:\n",
    "                department.append((name, surname))\n",
    "                break\n",
    "\n",
    "    return department"
   ]
  },
  {
   "cell_type": "markdown",
   "metadata": {},
   "source": [
    "Funkcja encode_message(message)\n",
    "\n",
    "Co robi: Funkcja koduje wiadomość tekstową na listę departamentów. Każdy bajt wiadomości jest zamieniany na odpowiadający mu departament (zbiór osób).\n",
    "\n",
    "Parametry:\n",
    "\n",
    "message (str) – wiadomość tekstowa, która ma zostać zakodowana.\n",
    "Co zwraca:\n",
    "\n",
    "Zwraca listę departments, która zawiera departamenty (listy osób), które odpowiadają poszczególnym bajtom wiadomości."
   ]
  },
  {
   "cell_type": "code",
   "execution_count": null,
   "metadata": {},
   "outputs": [],
   "source": [
    "# Function to encode a message into departments\n",
    "def encode_message(message):\n",
    "    byte_array = message.encode('utf-8')  # Encode message to bytes\n",
    "    departments = []\n",
    "\n",
    "    for byte in byte_array:\n",
    "        department = generate_department(byte)\n",
    "        departments.append(department)\n",
    "\n",
    "    return departments"
   ]
  },
  {
   "cell_type": "markdown",
   "metadata": {},
   "source": [
    "Funkcja decode_message(departments)\n",
    "\n",
    "Co robi: Funkcja dekoduje listę departamentów na oryginalną wiadomość. Przeszukuje każdy departament, aby wyodrębnić bity odpowiadające każdemu bajtowi, a następnie rekonstruuje bajty i dekoduje wiadomość z powrotem na tekst.\n",
    "\n",
    "Parametry:\n",
    "\n",
    "departments (list) – lista departamentów, które zawierają osoby reprezentujące zakodowane bity wiadomości.\n",
    "Co zwraca:\n",
    "\n",
    "Zwraca oryginalną wiadomość (str), która została zakodowana w formie departamentów.\n"
   ]
  },
  {
   "cell_type": "code",
   "execution_count": null,
   "metadata": {},
   "outputs": [],
   "source": [
    "# Function to decode the message from departments\n",
    "def decode_message(departments):\n",
    "    bytes_list = []\n",
    "\n",
    "    for department in departments:\n",
    "        bits = \"\"\n",
    "        for name, surname in department:\n",
    "            # Extract bits from the first letters of name and surname\n",
    "            name_bit = letter_to_bit(name[0])\n",
    "            surname_bit = letter_to_bit(surname[0])\n",
    "            bits += name_bit + surname_bit\n",
    "\n",
    "        # Convert 8 bits to a byte and append to the list\n",
    "        byte = int(bits, 2)\n",
    "        bytes_list.append(byte)\n",
    "\n",
    "    # Convert the list of bytes back to the original string\n",
    "    decoded_message = bytes(bytes_list).decode('utf-8')\n",
    "    return decoded_message"
   ]
  },
  {
   "cell_type": "markdown",
   "metadata": {},
   "source": [
    "Przykład użycia:"
   ]
  },
  {
   "cell_type": "code",
   "execution_count": null,
   "metadata": {},
   "outputs": [],
   "source": [
    "if __name__ == \"__main__\":\n",
    "    secret_message = \"Hello\"\n",
    "    encoded_departments = encode_message(secret_message)\n",
    "\n",
    "    print(\"Encoded Departments:\")\n",
    "    for i, department in enumerate(encoded_departments):\n",
    "        print(f\"Department {i + 1}:\")\n",
    "        for name, surname in department:\n",
    "            print(f\"  - {name} {surname}\")\n",
    "\n",
    "    # Decode the message\n",
    "    decoded_message = decode_message(encoded_departments)\n",
    "    print(\"\\nDecoded Message:\", decoded_message)"
   ]
  }
 ],
 "metadata": {
  "kernelspec": {
   "display_name": "Python 3",
   "language": "python",
   "name": "python3"
  },
  "language_info": {
   "name": "python",
   "version": "3.12.6"
  }
 },
 "nbformat": 4,
 "nbformat_minor": 2
}
