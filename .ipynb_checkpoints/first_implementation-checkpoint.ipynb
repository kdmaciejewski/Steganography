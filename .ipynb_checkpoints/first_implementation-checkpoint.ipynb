{
 "cells": [
  {
   "cell_type": "markdown",
   "source": [
    "Funkcja ukrywająca wiadomość przy użyciu znaków o zerowej szerokości\n",
    "\n",
    "Parametry:\n",
    "- plain_text (str): Tekst, do którego chcemy dodać ukrytą wiadomość.\n",
    "- secret_message (str): Wiadomość do ukrycia.\n",
    "\n",
    "Zwraca:\n",
    "- encoded_text (str): Tekst oryginalny z dodaną zaszyfrowaną wiadomością."
   ],
   "metadata": {
    "collapsed": false
   }
  },
  {
   "cell_type": "code",
   "execution_count": 1,
   "metadata": {
    "collapsed": true
   },
   "outputs": [],
   "source": [
    "def encrypt(plain_text, secret_message):\n",
    "\n",
    "    # Kodowanie ukrytej wiadomości na postać binarną\n",
    "    binary_message = ''.join(format(ord(char), '08b') for char in secret_message)\n",
    "    zero_width_encoding = binary_message.replace('0', '\\u200B').replace('1', '\\u200C')\n",
    "\n",
    "    # Łączenie tekstu oryginalnego z zakodowaną wiadomością\n",
    "    encoded_text = plain_text + '\\u200D' + zero_width_encoding + '\\u200D'\n",
    "    return encoded_text"
   ]
  },
  {
   "cell_type": "markdown",
   "source": [
    "Funkcja odszyfrowuje ukrytą wiadomość z zakodowanego tekstu.\n",
    "\n",
    "Parametry:\n",
    "- encoded_text (str): Tekst z ukrytą wiadomością.\n",
    "\n",
    "Zwraca:\n",
    "- plain_text (str): Tekst oryginalny bez ukrytej wiadomości.\n",
    "- secret_message (str): Ukryta wiadomość."
   ],
   "metadata": {
    "collapsed": false
   }
  },
  {
   "cell_type": "code",
   "execution_count": 2,
   "outputs": [],
   "source": [
    "def decrypt(encoded_text):\n",
    "    # Sprawdzanie, czy w tekście znajduje się ukryta wiadomość\n",
    "    if '\\u200D' not in encoded_text:\n",
    "        return \"Brak ukrytej wiadomości.\", encoded_text\n",
    "\n",
    "    # Rozdzielanie tekstu oryginalnego i zakodowanej wiadomości\n",
    "    plain_text, encoded_message = encoded_text.split('\\u200D', 1)\n",
    "    encoded_message = encoded_message.strip('\\u200D')\n",
    "\n",
    "    # Konwersja znaków o zerowej szerokości z powrotem do postaci binarnej\n",
    "    binary_message = encoded_message.replace('\\u200B', '0').replace('\\u200C', '1')\n",
    "\n",
    "    # Konwersja binarnej postaci na znaki, aby uzyskać ukrytą wiadomość\n",
    "    secret_message = ''.join(chr(int(binary_message[i:i + 8], 2)) for i in range(0, len(binary_message), 8))\n",
    "\n",
    "    return plain_text, secret_message"
   ],
   "metadata": {
    "collapsed": false,
    "pycharm": {
     "name": "#%%\n"
    }
   }
  },
  {
   "cell_type": "markdown",
   "source": [
    "Przykład użycia:"
   ],
   "metadata": {
    "collapsed": false
   }
  },
  {
   "cell_type": "code",
   "execution_count": 3,
   "outputs": [
    {
     "name": "stdout",
     "output_type": "stream",
     "text": [
      "Zakodowany tekst: Hello, jak się masz?‍​‌​‌​‌​‌​‌‌​‌​‌‌​‌‌‌​​‌​​‌‌‌‌​​‌​‌‌‌​‌​​​‌‌​​​​‌​​‌‌​​​‌​​‌‌​​‌​​​‌‌​​‌‌‍\n",
      "Tekst oryginalny: Hello, jak się masz?\n",
      "Odszyfrowana wiadomość: Ukryta123\n"
     ]
    }
   ],
   "source": [
    "plain_text = \"Hello, jak się masz?\"\n",
    "secret_message = \"Ukryta123\"\n",
    "\n",
    "# Szyfrowanie\n",
    "encoded_text = encrypt(plain_text, secret_message)\n",
    "print(\"Zakodowany tekst:\", encoded_text)\n",
    "\n",
    "# Odszyfrowanie\n",
    "original_text, decoded_message = decrypt(encoded_text)\n",
    "print(\"Tekst oryginalny:\", original_text)\n",
    "print(\"Odszyfrowana wiadomość:\", decoded_message)"
   ],
   "metadata": {
    "collapsed": false,
    "pycharm": {
     "name": "#%%\n"
    }
   }
  },
  {
   "cell_type": "markdown",
   "source": [],
   "metadata": {
    "collapsed": false
   }
  }
 ],
 "metadata": {
  "kernelspec": {
   "display_name": "Python 3",
   "language": "python",
   "name": "python3"
  },
  "language_info": {
   "codemirror_mode": {
    "name": "ipython",
    "version": 2
   },
   "file_extension": ".py",
   "mimetype": "text/x-python",
   "name": "python",
   "nbconvert_exporter": "python",
   "pygments_lexer": "ipython2",
   "version": "2.7.6"
  }
 },
 "nbformat": 4,
 "nbformat_minor": 0
}