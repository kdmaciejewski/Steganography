{
 "cells": [
  {
   "cell_type": "markdown",
   "metadata": {},
   "source": [
    "Opis Programu:\n",
    "Program ma na celu zakodowanie wiadomości w postaci \"departamentów\", które są reprezentowane przez fikcyjne dane (imię, nazwisko, imię środkowe i sufiks). Każdy \"departament\" to zbiór danych, które odpowiadają na podstawie bitów zakodowanej wiadomości. Wiadomość jest zamieniana na ciąg bitów, a następnie każdemu bitowi przypisywana jest osoba z odpowiednim imieniem i nazwiskiem, których pierwsze litery generują odpowiednie bity.\n",
    "\n",
    "Program składa się z trzech głównych funkcji:\n",
    "\n",
    "encode_message – koduje wiadomość w postaci listy departamentów.\n",
    "decode_message – dekoduje wiadomość z listy departamentów.\n",
    "generate_department – generuje departamenty na podstawie pojedynczego bajtu zakodowanej wiadomości."
   ]
  },
  {
   "cell_type": "markdown",
   "metadata": {},
   "source": [
    "Importy i inicjalizacja:"
   ]
  },
  {
   "cell_type": "code",
   "execution_count": null,
   "metadata": {},
   "outputs": [],
   "source": [
    "from faker import Faker\n",
    "import random\n",
    "\n",
    "# Initialize Faker\n",
    "fake = Faker()"
   ]
  },
  {
   "cell_type": "markdown",
   "metadata": {},
   "source": [
    "Funkcja letter_to_bit(letter)\n",
    "\n",
    "Co robi: Ta funkcja konwertuje pierwszą literę danego tekstu na bit w zależności od tego, czy jest to samogłoska, czy spółgłoska.\n",
    "\n",
    "Parametry:\n",
    "\n",
    "letter (str) – litera (dowolny znak), który ma zostać przekształcony na bit.\n",
    "Co zwraca:\n",
    "\n",
    "Zwraca '0' jeśli litera to samogłoska (A, E, I, O, U), w przeciwnym razie '1' (spółgłoska)."
   ]
  },
  {
   "cell_type": "code",
   "execution_count": null,
   "metadata": {},
   "outputs": [],
   "source": [
    "# Function to determine bit based on first letter\n",
    "def letter_to_bit(letter):\n",
    "    vowels = \"AEIOU\"\n",
    "    return '0' if letter.upper() in vowels else '1'"
   ]
  },
  {
   "cell_type": "markdown",
   "metadata": {},
   "source": [
    "Funkcja generate_department(byte)\n",
    "\n",
    "Co robi: Funkcja generuje departament (zbiór danych), który odpowiada określonemu bajtowi (8 bitów). Departament jest reprezentowany przez osobę z odpowiednimi imionami, nazwiskiem, imieniem środkowym i sufiksem. Poszczególne atrybuty osoby są wykorzystywane do odwzorowania bitów zakodowanego bajtu.\n",
    "\n",
    "Parametry:\n",
    "\n",
    "byte (int) – pojedyńczy bajt (wartość od 0 do 255) do zakodowania na 8 bitów. Każdy bajt jest przekształcany na ciąg 8 bitów, który zostaje odwzorowany w atrybutach generowanych osób.\n",
    "Co zwraca:\n",
    "\n",
    "Zwraca listę department, która zawiera zestaw osób (imię, nazwisko, imię środkowe, sufiks), które odpowiadają poszczególnym bitom bajtu."
   ]
  },
  {
   "cell_type": "code",
   "execution_count": null,
   "metadata": {},
   "outputs": [],
   "source": [
    "# Function to encode a single byte as a department\n",
    "def generate_department(byte):\n",
    "    department = []\n",
    "    bits = f\"{byte:08b}\"  # Convert byte to 8-bit binary string\n",
    "\n",
    "    for i in range(0, 8, 4):  # Each person now contributes 4 bits\n",
    "        # Generate random names until we get one with the right first-letter bits\n",
    "        while True:\n",
    "            name = fake.first_name()\n",
    "            surname = fake.last_name()\n",
    "            middle_name = fake.first_name() if random.choice([True, False]) else \"\"\n",
    "            suffix = random.choice([\"Jr\", \"Sr\"]) if random.choice([True, False]) else \"\"\n",
    "\n",
    "            # Generate the 4-bit code based on the person's attributes\n",
    "            name_bit = letter_to_bit(name[0])  # Bit 1: First letter of name\n",
    "            surname_bit = letter_to_bit(surname[0])  # Bit 2: First letter of surname\n",
    "            middle_bit = '1' if middle_name else '0'  # Bit 3: Middle name existence\n",
    "            suffix_bit = '1' if suffix else '0'  # Bit 4: Suffix existence\n",
    "\n",
    "            # Check if this 4-bit code matches the desired bits\n",
    "            if name_bit == bits[i] and surname_bit == bits[i + 1] and middle_bit == bits[i + 2] and suffix_bit == bits[\n",
    "                i + 3]:\n",
    "                department.append((name, middle_name, surname, suffix))\n",
    "                break\n",
    "\n",
    "    return department"
   ]
  },
  {
   "cell_type": "markdown",
   "metadata": {},
   "source": [
    "Funkcja encode_message(message)\n",
    "\n",
    "Co robi: Funkcja koduje wiadomość tekstową do postaci listy departamentów. Każdy bajt wiadomości jest zamieniany na odpowiadający mu departament.\n",
    "\n",
    "Parametry:\n",
    "\n",
    "message (str) – wiadomość tekstowa, która ma zostać zakodowana.\n",
    "Co zwraca:\n",
    "\n",
    "Zwraca listę departments, która zawiera departamenty (listy osób) odpowiadające kolejnym bajtom zakodowanej wiadomości."
   ]
  },
  {
   "cell_type": "code",
   "execution_count": null,
   "metadata": {},
   "outputs": [],
   "source": [
    "# Function to encode a message into departments\n",
    "def encode_message(message):\n",
    "    byte_array = message.encode('utf-8')  # Encode message to bytes\n",
    "    departments = []\n",
    "\n",
    "    for byte in byte_array:\n",
    "        department = generate_department(byte)\n",
    "        departments.append(department)\n",
    "\n",
    "    return departments"
   ]
  },
  {
   "cell_type": "markdown",
   "metadata": {},
   "source": [
    "Funkcja decode_message(departments)\n",
    "\n",
    "Co robi: Funkcja dekoduje listę departamentów z powrotem na oryginalną wiadomość. Przeszukuje każdy departament, aby wyodrębnić odpowiadające mu bity, a następnie rekonstruuje bajty i z powrotem dekoduje wiadomość.\n",
    "\n",
    "Parametry:\n",
    "\n",
    "departments (list) – lista departamentów, która zawiera osoby reprezentujące zakodowane bity wiadomości.\n",
    "Co zwraca:\n",
    "\n",
    "Zwraca oryginalną wiadomość (str), która została zakodowana w formie departamentów."
   ]
  },
  {
   "cell_type": "code",
   "execution_count": null,
   "metadata": {},
   "outputs": [],
   "source": [
    "# Function to decode the message from departments\n",
    "def decode_message(departments):\n",
    "    bytes_list = []\n",
    "\n",
    "    for department in departments:\n",
    "        bits = \"\"\n",
    "        for name, middle_name, surname, suffix in department:\n",
    "            # Extract bits from the name, surname, middle name, and suffix\n",
    "            name_bit = letter_to_bit(name[0])\n",
    "            surname_bit = letter_to_bit(surname[0])\n",
    "            middle_bit = '1' if middle_name else '0'\n",
    "            suffix_bit = '1' if suffix else '0'\n",
    "            bits += name_bit + surname_bit + middle_bit + suffix_bit\n",
    "\n",
    "        # Convert 8 bits to a byte and append to the list\n",
    "        byte = int(bits, 2)\n",
    "        bytes_list.append(byte)\n",
    "\n",
    "    # Convert the list of bytes back to the original string\n",
    "    decoded_message = bytes(bytes_list).decode('utf-8')\n",
    "    return decoded_message"
   ]
  },
  {
   "cell_type": "markdown",
   "metadata": {},
   "source": [
    "Przykład użycia"
   ]
  },
  {
   "cell_type": "code",
   "execution_count": null,
   "metadata": {},
   "outputs": [],
   "source": [
    "if __name__ == \"__main__\":\n",
    "\n",
    "    secret_message = \"Hi\"\n",
    "    encoded_departments = encode_message(secret_message)\n",
    "\n",
    "    print(\"Encoded Departments:\")\n",
    "    for i, department in enumerate(encoded_departments):\n",
    "        print(f\"Department {i + 1}:\")\n",
    "        for name, middle_name, surname, suffix in department:\n",
    "            middle = f\" {middle_name}\" if middle_name else \"\"\n",
    "            suff = f\" {suffix}\" if suffix else \"\"\n",
    "            print(f\"  - {name}{middle} {surname}{suff}\")\n",
    "\n",
    "    # Decode the message\n",
    "    decoded_message = decode_message(encoded_departments)\n",
    "    print(\"\\nDecoded Message:\", decoded_message)"
   ]
  }
 ],
 "metadata": {
  "language_info": {
   "name": "python"
  }
 },
 "nbformat": 4,
 "nbformat_minor": 2
}
